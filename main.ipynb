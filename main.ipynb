{
 "cells": [
  {
   "cell_type": "code",
   "execution_count": 1,
   "metadata": {},
   "outputs": [],
   "source": [
    "# Import libraries\n",
    "import pandas as pd\n",
    "import numpy as np\n",
    "import re\n",
    "from textblob import TextBlob"
   ]
  },
  {
   "cell_type": "code",
   "execution_count": 2,
   "metadata": {},
   "outputs": [
    {
     "name": "stdout",
     "output_type": "stream",
     "text": [
      "                                               Tweet  polarity  subjectivity   \n",
      "0  RT @ChristopherJM: Zelensky also confirms CIA ...  0.000000      0.000000  \\\n",
      "1  RT @oryxspioenkop: Russia acquired these vehic... -0.100000      0.300000   \n",
      "2  RT @RepMTG: I’m calling for an audit of every ... -0.035714      0.607143   \n",
      "3  RT @KyivIndependent: \"Russian goal seems to be...  0.034091      0.113636   \n",
      "4  RT @william98161886: I see Rishi just given an... -0.325521      0.166667   \n",
      "\n",
      "  Sentiment  \n",
      "0  Negative  \n",
      "1  Positive  \n",
      "2  Positive  \n",
      "3  Negative  \n",
      "4  Positive  \n"
     ]
    }
   ],
   "source": [
    "# Load and explore dataset\n",
    "data = pd.read_csv('/Users/nadinejackson/Downloads/Ukraine_10K_tweets_sentiment_analysis.csv')\n",
    "print(data.head())"
   ]
  },
  {
   "cell_type": "code",
   "execution_count": 3,
   "metadata": {},
   "outputs": [],
   "source": [
    "# Define function to preprocess tweets\n",
    "def clean_tweet(tweet):\n",
    "    if not isinstance(tweet, str):\n",
    "        return ''\n",
    "    return ' '.join(re.sub(\"(@[A-Za-z0-9]+)|([^0-9A-Za-z \\t])|(\\w+:\\/\\/\\S+)\", \" \", tweet).split()).lower()\n",
    "\n",
    "data['cleaned_tweet'] = data['Tweet'].apply(clean_tweet)"
   ]
  },
  {
   "cell_type": "code",
   "execution_count": 4,
   "metadata": {},
   "outputs": [],
   "source": [
    "# Analyze sentiment using TextBlob\n",
    "def analyze_sentiment(tweet):\n",
    "    analysis = TextBlob(tweet)\n",
    "    return analysis.sentiment\n",
    "\n",
    "data['polarity'], data['subjectivity'] = zip(*data['cleaned_tweet'].apply(analyze_sentiment))"
   ]
  },
  {
   "cell_type": "code",
   "execution_count": 5,
   "metadata": {},
   "outputs": [],
   "source": [
    "# Classify tweets into positive, negative, or neutral\n",
    "def classify_sentiment(polarity):\n",
    "    if polarity > 0:\n",
    "        return 'positive'\n",
    "    elif polarity == 0:\n",
    "        return 'neutral'\n",
    "    else:\n",
    "        return 'negative'\n",
    "\n",
    "data['sentiment'] = data['polarity'].apply(classify_sentiment)\n"
   ]
  },
  {
   "cell_type": "code",
   "execution_count": 6,
   "metadata": {},
   "outputs": [
    {
     "name": "stdout",
     "output_type": "stream",
     "text": [
      "sentiment\n",
      "neutral     4969\n",
      "positive    3167\n",
      "negative    2031\n",
      "Name: count, dtype: int64\n"
     ]
    }
   ],
   "source": [
    "# Analyze results \n",
    "print(data['sentiment'].value_counts())"
   ]
  },
  {
   "cell_type": "code",
   "execution_count": 7,
   "metadata": {},
   "outputs": [
    {
     "name": "stderr",
     "output_type": "stream",
     "text": [
      ".\n",
      "----------------------------------------------------------------------\n",
      "Ran 1 test in 0.003s\n",
      "\n",
      "OK\n"
     ]
    }
   ],
   "source": [
    "# Unit test to ensure sent analysis working correctly\n",
    "import unittest\n",
    "\n",
    "class TestSentimentAnalysis(unittest.TestCase):\n",
    "    \n",
    "    def test_analyze_sentiment(self):\n",
    "        sample_text = \"I love peace!\"\n",
    "        sentiment = analyze_sentiment(sample_text)\n",
    "        self.assertTrue(sentiment.polarity > 0)\n",
    "\n",
    "if __name__ == '__main__':\n",
    "    unittest.main(argv=['first-arg-is-ignored'], exit=False)\n"
   ]
  }
 ],
 "metadata": {
  "kernelspec": {
   "display_name": "Python 3",
   "language": "python",
   "name": "python3"
  },
  "language_info": {
   "codemirror_mode": {
    "name": "ipython",
    "version": 3
   },
   "file_extension": ".py",
   "mimetype": "text/x-python",
   "name": "python",
   "nbconvert_exporter": "python",
   "pygments_lexer": "ipython3",
   "version": "3.11.3"
  },
  "orig_nbformat": 4
 },
 "nbformat": 4,
 "nbformat_minor": 2
}
